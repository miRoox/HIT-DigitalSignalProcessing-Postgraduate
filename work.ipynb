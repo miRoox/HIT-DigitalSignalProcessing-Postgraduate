{
 "cells": [
  {
   "cell_type": "markdown",
   "metadata": {},
   "source": [
    "# 数字信号处理"
   ]
  },
  {
   "cell_type": "markdown",
   "metadata": {},
   "source": [
    "## 使用说明\n",
    "\n",
    "1. 使用[Julia语言](https://cn.julialang.org/)编写代码，[Jupyter笔记本](https://jupyter.org/)作为交互界面，[Binder](https://mybinder.org/)提供在线交互。\n",
    "2. 在Jupyter笔记本中运行代码：选中要运行的代码块，按组合键 <kbd>Shift</kbd>+<kbd>Enter</kbd> 即可运行。也可以通过菜单栏的 \"Cell\" 下的 \"Run Cells\" 等菜单项来运行。\n",
    "3. 首次运行代码时，Julia需要进行即时编译预热，响应速度会比较慢，再次运行速度就正常了。\n",
    "4. [Binder](https://mybinder.org/)提供的在线交互是通过连接云服务器上运行的内核实现的，在长期不运行的情况下会连接超时，可以点击右边的[链接](https://mybinder.org/v2/gh/miRoox/HIT-DigitalSignalProcessing-Postgraduate/master?filepath=work.ipynb)重新进入。"
   ]
  },
  {
   "cell_type": "markdown",
   "metadata": {},
   "source": [
    "载入包"
   ]
  },
  {
   "cell_type": "code",
   "execution_count": null,
   "metadata": {},
   "outputs": [],
   "source": [
    "using Statistics, LombScargle, Deconvolution, Plots"
   ]
  },
  {
   "cell_type": "markdown",
   "metadata": {},
   "source": [
    "生成数据"
   ]
  },
  {
   "cell_type": "code",
   "execution_count": null,
   "metadata": {},
   "outputs": [],
   "source": [
    "t = range(0, 10, length=1000) # observation times\n",
    "x = sinpi.(t) .* cos.(5t) .- 1.5cospi.(t) .* sin.(2t) # the original signal\n",
    "n = rand(length(x)) # noise to be added\n",
    "y = x .+ 3(n .- mean(n)) # observed noisy signal"
   ]
  },
  {
   "cell_type": "markdown",
   "metadata": {},
   "source": [
    "Lomb-Scargle周期图"
   ]
  },
  {
   "cell_type": "code",
   "execution_count": null,
   "metadata": {},
   "outputs": [],
   "source": [
    "p = lombscargle(t, y, maximum_frequency=2, samples_per_peak=10)\n",
    "plot(freqpower(p)...)"
   ]
  },
  {
   "cell_type": "markdown",
   "metadata": {},
   "source": [
    "估计模型"
   ]
  },
  {
   "cell_type": "code",
   "execution_count": null,
   "metadata": {},
   "outputs": [],
   "source": [
    "m1 = LombScargle.model(t, y, findmaxfreq(p, [0, 0.5])[1]) # first model\n",
    "m2 = LombScargle.model(t, y, findmaxfreq(p, [0.5, 1])[1]) # second model\n",
    "m3 = LombScargle.model(t, y, findmaxfreq(p, [1, 1.5])[1]) # third model"
   ]
  },
  {
   "cell_type": "markdown",
   "metadata": {},
   "source": [
    "Wiener滤波"
   ]
  },
  {
   "cell_type": "code",
   "execution_count": null,
   "metadata": {},
   "outputs": [],
   "source": [
    "signal = m1 + m2 + m3 # signal for `wiener`\n",
    "noise = rand(length(y)) # noise for `wiener`\n",
    "polished = wiener(y, signal, noise)"
   ]
  },
  {
   "cell_type": "markdown",
   "metadata": {},
   "source": [
    "比较结果"
   ]
  },
  {
   "cell_type": "code",
   "execution_count": null,
   "metadata": {},
   "outputs": [],
   "source": [
    "plot(t, x, size=(900, 600), label=\"Original signal\", linewidth=2)\n",
    "plot!(t, y, label=\"Observed signal\") # ...original and observed signal"
   ]
  },
  {
   "cell_type": "code",
   "execution_count": null,
   "metadata": {},
   "outputs": [],
   "source": [
    "plot(t, x, size=(900, 600), label=\"Original signal\", linewidth=2)\n",
    "plot!(t, polished, label=\"Recovered with Wiener\") # ...original and recovered signal\n",
    "plot!(t, signal, label=\"Lomb-Scargle model\") #...and best fitting Lomb–Scargle model"
   ]
  }
 ],
 "metadata": {
  "kernelspec": {
   "display_name": "Julia 1.1.1",
   "language": "julia",
   "name": "julia-1.1"
  },
  "language_info": {
   "file_extension": ".jl",
   "mimetype": "application/julia",
   "name": "julia",
   "version": "1.1.1"
  }
 },
 "nbformat": 4,
 "nbformat_minor": 2
}
