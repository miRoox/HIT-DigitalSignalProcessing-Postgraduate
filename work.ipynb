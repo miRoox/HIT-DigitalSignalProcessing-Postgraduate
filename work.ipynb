{
 "cells": [
  {
   "cell_type": "markdown",
   "metadata": {},
   "source": [
    "# 数字信号处理"
   ]
  },
  {
   "cell_type": "markdown",
   "metadata": {},
   "source": [
    "使用[Julia语言](http://julialang.org/)实现"
   ]
  },
  {
   "cell_type": "code",
   "execution_count": null,
   "metadata": {},
   "outputs": [],
   "source": [
    "using Statistics, LombScargle, Deconvolution, Plots"
   ]
  },
  {
   "cell_type": "markdown",
   "metadata": {},
   "source": [
    "生成数据"
   ]
  },
  {
   "cell_type": "code",
   "execution_count": null,
   "metadata": {},
   "outputs": [],
   "source": [
    "t = range(0, 10, length=1000) # observation times\n",
    "x = sinpi.(t) .* cos.(5t) .- 1.5cospi.(t) .* sin.(2t) # the original signal\n",
    "n = rand(length(x)) # noise to be added\n",
    "y = x .+ 3(n .- mean(n)) # observed noisy signal"
   ]
  },
  {
   "cell_type": "markdown",
   "metadata": {},
   "source": [
    "Lomb-Scargle周期图"
   ]
  },
  {
   "cell_type": "code",
   "execution_count": null,
   "metadata": {},
   "outputs": [],
   "source": [
    "p = lombscargle(t, y, maximum_frequency=2, samples_per_peak=10)\n",
    "plot(freqpower(p)...)"
   ]
  },
  {
   "cell_type": "markdown",
   "metadata": {},
   "source": [
    "估计模型"
   ]
  },
  {
   "cell_type": "code",
   "execution_count": null,
   "metadata": {},
   "outputs": [],
   "source": [
    "m1 = LombScargle.model(t, y, findmaxfreq(p, [0, 0.5])[1]) # first model\n",
    "m2 = LombScargle.model(t, y, findmaxfreq(p, [0.5, 1])[1]) # second model\n",
    "m3 = LombScargle.model(t, y, findmaxfreq(p, [1, 1.5])[1]) # third model"
   ]
  },
  {
   "cell_type": "markdown",
   "metadata": {},
   "source": [
    "Wiener滤波"
   ]
  },
  {
   "cell_type": "code",
   "execution_count": null,
   "metadata": {},
   "outputs": [],
   "source": [
    "signal = m1 + m2 + m3 # signal for `wiener`\n",
    "noise = rand(length(y)) # noise for `wiener`\n",
    "polished = wiener(y, signal, noise)"
   ]
  },
  {
   "cell_type": "markdown",
   "metadata": {},
   "source": [
    "比较结果"
   ]
  },
  {
   "cell_type": "code",
   "execution_count": null,
   "metadata": {},
   "outputs": [],
   "source": [
    "plot(t, x, size=(900, 600), label=\"Original signal\", linewidth=2)\n",
    "plot!(t, y, label=\"Observed signal\") # ...original and observed signal"
   ]
  },
  {
   "cell_type": "code",
   "execution_count": null,
   "metadata": {},
   "outputs": [],
   "source": [
    "plot(t, x, size=(900, 600), label=\"Original signal\", linewidth=2)\n",
    "plot!(t, polished, label=\"Recovered with Wiener\") # ...original and recovered signal\n",
    "plot!(t, signal, label=\"Lomb-Scargle model\") #...and best fitting Lomb–Scargle model"
   ]
  }
 ],
 "metadata": {
  "kernelspec": {
   "display_name": "Julia 1.1.1",
   "language": "julia",
   "name": "julia-1.1"
  },
  "language_info": {
   "file_extension": ".jl",
   "mimetype": "application/julia",
   "name": "julia",
   "version": "1.1.1"
  }
 },
 "nbformat": 4,
 "nbformat_minor": 2
}
